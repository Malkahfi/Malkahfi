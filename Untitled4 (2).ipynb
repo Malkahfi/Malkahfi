{
 "cells": [
  {
   "cell_type": "code",
   "execution_count": 25,
   "metadata": {},
   "outputs": [
    {
     "name": "stdout",
     "output_type": "stream",
     "text": [
      "True\n"
     ]
    }
   ],
   "source": [
    "#Nomor 1\n",
    "#Bertujuan untuk mengecek sebuah kata\n",
    "#Dilakukan pengecekan secara satu per satu dari masing-masing karakter\n",
    "#Algoritma seperti di bawah ini\n",
    "\n",
    "x ='girlAa'\n",
    "if len(x)!=6:\n",
    "    print(\"False\")\n",
    "\n",
    "elif (x[0]>='0' and x[0]<='9'):\n",
    "    print(\"False\")\n",
    "    \n",
    "elif (x[1]!='a' and x[1]!='i' and x[1]!='u' \n",
    "      and x[1]!='e' and x[1]!='o'):\n",
    "    print('False')\n",
    "\n",
    "elif (x[2]=='b' or x[2]=='c' or x[2]=='D'\n",
    "      or x[2]=='F'):\n",
    "    print(\"False\")\n",
    "\n",
    "elif (x[3]==' ' or x[3]=='\\r' or x[3]=='\\t' or\n",
    "    x[3]=='\\f'):\n",
    "    print(\"False\")\n",
    "\n",
    "elif (x[4]!='A' and x[4]!='I' and x[4]!='U' \n",
    "      and x[4]!='E' and x[4]!='O'):\n",
    "    print(\"False\")\n",
    "\n",
    "elif (x[5]==',' or x[5]=='.'):\n",
    "    print(\"False\")\n",
    "\n",
    "else:\n",
    "    print('True')\n"
   ]
  },
  {
   "cell_type": "code",
   "execution_count": null,
   "metadata": {},
   "outputs": [],
   "source": [
    "#Nomor 2\n",
    "#Bertujuan untuk menghilangkan huruf yang double\n",
    "#Dilakukan pengecekan secara satu per satu dari karakter agar yang double dapat dihilangkan\n",
    "#Algoritma seperti di bawah ini\n",
    "#Metode yang digunakan kurang lebih membuat sebuah data kosong untuk dimasukkan setiap karakter baru dalam data tersebut\n",
    "\n",
    "inputdata = input(print(\"Masukkan kata-kata dibawah ini : \"))\n",
    "\n",
    "def Doublechar(kata):\n",
    "    databaru = ''\n",
    "    for x in kata:\n",
    "        if not(x in databaru):\n",
    "            databaru = databaru + x\n",
    "    return databaru\n",
    "\n",
    "hasil = Doublechar(inputdata)\n",
    "\n",
    "print(\"Hasil adalah : \"+ hasil)"
   ]
  },
  {
   "cell_type": "code",
   "execution_count": null,
   "metadata": {},
   "outputs": [],
   "source": [
    "#Nomor 3\n",
    "#Bertujuan membuat pola bintang seperti contoh\n",
    "#Dilakukan pembuatan secara baris per baris dengan pola tertentu\n",
    "#Algoritma seperti dibawah ini. Kurang lebih setiap algoritma disusun berdasarkan hasil baris per baris\n",
    "\n",
    "def fungsi (n):\n",
    "    if n%2==1:\n",
    "        b=int(n/2)\n",
    "        j=b\n",
    "\n",
    "        #baris 1\n",
    "        print(' '*(n+1)+'*')\n",
    "        print('\\r')\n",
    "\n",
    "        for i in range (0,b-1):\n",
    "            print(' '*2*j+'*'+' '*(2*i+1)+'* '+' '*2*i+'*')\n",
    "            print('\\r')\n",
    "            j=j-1\n",
    "\n",
    "        print(' '*2+'* '*n)\n",
    "        print('\\r')\n",
    "\n",
    "        for i in range (b-2,-1,-1):\n",
    "            j=j+1\n",
    "            print(' '*2*j+'*'+' '*(2*i+1)+'* '+' '*2*i+'*')\n",
    "            print('\\r')\n",
    "\n",
    "        #baris terakhir\n",
    "        print(' '*(n+1)+'*')\n",
    "        print('\\r')\n",
    "        \n",
    "    else:\n",
    "        print(\"salah input. harus ganjil\")\n",
    "        \n",
    "fungsi(9)"
   ]
  }
 ],
 "metadata": {
  "kernelspec": {
   "display_name": "Python 3",
   "language": "python",
   "name": "python3"
  },
  "language_info": {
   "codemirror_mode": {
    "name": "ipython",
    "version": 3
   },
   "file_extension": ".py",
   "mimetype": "text/x-python",
   "name": "python",
   "nbconvert_exporter": "python",
   "pygments_lexer": "ipython3",
   "version": "3.7.6"
  }
 },
 "nbformat": 4,
 "nbformat_minor": 4
}
